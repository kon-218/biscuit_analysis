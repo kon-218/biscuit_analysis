{
 "cells": [
  {
   "cell_type": "code",
   "execution_count": null,
   "metadata": {},
   "outputs": [],
   "source": [
    "# Make classification model for biscuit type\n",
    "# Features are eta, gamma, phi, t and L \n",
    "\n",
    "# Apply classifier to microscopy data\n",
    "# Investigate (r) for each biscuit type\n",
    "# Can we predict biscuit type from (r) values?\n",
    "\n",
    "# Regression models.\n",
    "# How do the (r) values change with the biscuit type?\n",
    "# Can we predict (L) better than the Washburn equation?\n",
    "# How much better?\n",
    "\n"
   ]
  },
  {
   "cell_type": "markdown",
   "metadata": {},
   "source": [
    "## Making a classifier model\n",
    "\n",
    "Random Forest and Gradient Boosting classifiers for predicting biscuit type"
   ]
  },
  {
   "cell_type": "code",
   "execution_count": 4,
   "metadata": {},
   "outputs": [
    {
     "name": "stdout",
     "output_type": "stream",
     "text": [
      "             t         L        dL       eta   gamma   phi\n",
      "0    30.000000  0.008087  0.000392  0.000993  0.0678  1.45\n",
      "1    32.727273  0.008253  0.000270  0.000993  0.0678  1.45\n",
      "2    35.454545  0.008607  0.000501  0.000993  0.0678  1.45\n",
      "3    38.181818  0.008920  0.000267  0.000993  0.0678  1.45\n",
      "4    40.909091  0.009604  0.000274  0.000993  0.0678  1.45\n",
      "..         ...       ...       ...       ...     ...   ...\n",
      "95  289.090909  0.024948  0.000307  0.000993  0.0678  1.45\n",
      "96  291.818182  0.025015  0.000711  0.000993  0.0678  1.45\n",
      "97  294.545455  0.024558  0.000322  0.000993  0.0678  1.45\n",
      "98  297.272727  0.025243  0.000489  0.000993  0.0678  1.45\n",
      "99  300.000000  0.024784  0.000851  0.000993  0.0678  1.45\n",
      "\n",
      "[100 rows x 6 columns]\n",
      "         gamma       phi       eta         L          t    biscuit\n",
      "0     0.073897  1.333006  0.000999  0.011196  19.362214  Digestive\n",
      "1     0.080946  1.476758  0.001012  0.005894  11.852589  Digestive\n",
      "2     0.087408  1.477141  0.000984  0.009249  24.793669  Digestive\n",
      "3     0.070793  1.502001  0.001002  0.003774  16.292780     Hobnob\n",
      "4     0.058917  1.548274  0.001004  0.002291  13.662271     Hobnob\n",
      "...        ...       ...       ...       ...        ...        ...\n",
      "2995  0.084596  1.557367  0.000981  0.003221  24.231107  Digestive\n",
      "2996  0.067928  1.487239  0.000993  0.003933  12.256570     Hobnob\n",
      "2997  0.059526  1.444489  0.000998  0.007583  26.464108     Hobnob\n",
      "2998  0.071386  1.212213  0.001004  0.013988  22.772293  Digestive\n",
      "2999  0.082724  1.482384  0.001000  0.003885  15.217883   Rich Tea\n",
      "\n",
      "[3000 rows x 6 columns]\n"
     ]
    }
   ],
   "source": [
    "import numpy as np\n",
    "import pandas as pd\n",
    "import matplotlib.pyplot as plt\n",
    "import seaborn as sns\n",
    "\n",
    "# Load the data \n",
    "\n",
    "dunking_data = pd.read_csv('data/dunking-data.csv')\n",
    "microscopy_data = pd.read_csv('data/microscopy-data.csv')\n",
    "tr1_data = pd.read_csv('data/tr-1.csv')\n",
    "tr2_data = pd.read_csv('data/tr-2.csv')\n",
    "tr3_data = pd.read_csv('data/tr-3.csv')\n",
    "\n",
    "# Constants\n",
    "tea_surface_tension = 6.78e-2  # N m−1\n",
    "contact_angle = 1.45  # rad\n",
    "tea_dynamic_viscosity = 9.93e-4  # Pa s\n",
    "\n",
    "tr1_data['eta'] = tea_dynamic_viscosity\n",
    "tr1_data['gamma'] = tea_surface_tension\n",
    "tr1_data['phi'] = contact_angle\n",
    "\n",
    "tr2_data['eta'] = tea_dynamic_viscosity\n",
    "tr2_data['gamma'] = tea_surface_tension\n",
    "tr2_data['phi'] = contact_angle\n",
    "\n",
    "tr3_data['eta'] = tea_dynamic_viscosity\n",
    "tr3_data['gamma'] = tea_surface_tension\n",
    "tr3_data['phi'] = contact_angle\n",
    "\n",
    "print(tr1_data)\n",
    "print(dunking_data)"
   ]
  },
  {
   "cell_type": "code",
   "execution_count": 11,
   "metadata": {},
   "outputs": [
    {
     "name": "stderr",
     "output_type": "stream",
     "text": [
      "/home/user/.local/lib/python3.8/site-packages/sklearn/model_selection/_search.py:307: UserWarning: The total space of parameters 81 is smaller than n_iter=100. Running 81 iterations. For exhaustive searches, use GridSearchCV.\n",
      "  warnings.warn(\n",
      "/home/user/.local/lib/python3.8/site-packages/sklearn/model_selection/_search.py:307: UserWarning: The total space of parameters 27 is smaller than n_iter=100. Running 27 iterations. For exhaustive searches, use GridSearchCV.\n",
      "  warnings.warn(\n",
      "/home/user/.local/lib/python3.8/site-packages/sklearn/model_selection/_search.py:307: UserWarning: The total space of parameters 81 is smaller than n_iter=100. Running 81 iterations. For exhaustive searches, use GridSearchCV.\n",
      "  warnings.warn(\n"
     ]
    }
   ],
   "source": [
    "from sklearn.model_selection import train_test_split\n",
    "from sklearn.pipeline import Pipeline\n",
    "from sklearn.decomposition import PCA\n",
    "from sklearn.ensemble import RandomForestClassifier, GradientBoostingClassifier\n",
    "from sklearn.preprocessing import LabelEncoder\n",
    "from sklearn.model_selection import RandomizedSearchCV\n",
    "\n",
    "# Preprocessing\n",
    "dunking_data = dunking_data.dropna()  # drop missing values\n",
    "le = LabelEncoder()\n",
    "dunking_data['biscuit'] = le.fit_transform(dunking_data['biscuit'])  # encode target variable\n",
    "\n",
    "# Split data\n",
    "X = dunking_data.drop('biscuit', axis=1)\n",
    "y = dunking_data['biscuit']\n",
    "X_train, X_test, y_train, y_test = train_test_split(X, y, test_size=0.2, random_state=42)\n",
    "\n",
    "# Create classifier pipelines \n",
    "pipe_rf = Pipeline([('clf', RandomForestClassifier())])\n",
    "\n",
    "pipe_gb = Pipeline([('clf', GradientBoostingClassifier())])\n",
    "\n",
    "pipe_PCA_rf = Pipeline([('pca', PCA(n_components=4)), ('clf', RandomForestClassifier())])\n",
    "\n",
    "pipe_PCA_gb = Pipeline([('pca', PCA(n_components=4)), ('clf', GradientBoostingClassifier())])\n",
    "\n",
    "# Define hyperparameter grids for each model (adjust as needed)\n",
    "rf_param_dist = {\n",
    "    'n_estimators': [100, 200, 300],\n",
    "    'max_depth': [4, 6, 8],\n",
    "    'min_samples_split': [2, 5, 10],\n",
    "    'min_samples_leaf': [1, 2, 4]\n",
    "}\n",
    "\n",
    "gb_param_dist = {\n",
    "    'learning_rate': [0.1, 0.01, 0.001],\n",
    "    'n_estimators': [100, 200, 300],\n",
    "    'max_depth': [4, 6, 8]\n",
    "}\n",
    "\n",
    "# Create pipelines with hyperparameter tuning\n",
    "pipe_rf_tuning = Pipeline([('clf', RandomizedSearchCV(estimator=RandomForestClassifier(), param_distributions=rf_param_dist, n_iter=100, cv=5))])\n",
    "pipe_gb_tuning = Pipeline([('clf', RandomizedSearchCV(estimator=GradientBoostingClassifier(), param_distributions=gb_param_dist, n_iter=100, cv=5))])\n",
    "\n",
    "pipe_PCA_rf_tuning = Pipeline([('pca', PCA(n_components=4)), ('clf', RandomizedSearchCV(estimator=RandomForestClassifier(), param_distributions=rf_param_dist, n_iter=100, cv=5))])\n",
    "pipe_PCA_gb_tuning = Pipeline([('pca', PCA(n_components=4)), ('clf', RandomizedSearchCV(estimator=GradientBoostingClassifier(), param_distributions=gb_param_dist, n_iter=100, cv=5))])\n",
    "\n",
    "pipelines = [pipe_rf, pipe_gb, pipe_PCA_rf, pipe_PCA_gb, pipe_rf_tuning, pipe_gb_tuning, pipe_PCA_rf_tuning, pipe_PCA_gb_tuning]\n",
    "pipeline_names = ['Random Forest', 'Gradient Boosting', 'PCA-Random Forest', 'PCA-Gradient Boosting', 'Random Forest Tuned', 'Gradient Boosting Tuned', 'PCA-Random Forest Tuned', 'PCA-Gradient Boosting Tuned']\n",
    "\n",
    "# Loop to fit each of pipelines\n",
    "for pipe in pipelines:\n",
    "    pipe.fit(X_train, y_train)\n",
    "\n",
    "# Compare accuracies\n",
    "for index, val in enumerate(pipelines):\n",
    "    print('{} pipeline test accuracy: {}'.format(pipeline_names[index], val.score(X_test, y_test)))\n"
   ]
  },
  {
   "cell_type": "code",
   "execution_count": 10,
   "metadata": {},
   "outputs": [],
   "source": [
    "# Use the best model to predict biscuit types for the microscopy data\n"
   ]
  },
  {
   "cell_type": "code",
   "execution_count": null,
   "metadata": {},
   "outputs": [],
   "source": [
    "# Investigate the (r) of different biscuit types "
   ]
  },
  {
   "cell_type": "code",
   "execution_count": null,
   "metadata": {},
   "outputs": [],
   "source": []
  },
  {
   "cell_type": "markdown",
   "metadata": {},
   "source": [
    "## Predicting (L) using ML and Washburn equation"
   ]
  },
  {
   "cell_type": "code",
   "execution_count": null,
   "metadata": {},
   "outputs": [],
   "source": [
    "import numpy as np\n",
    "\n",
    "def calculate_L(gamma, r, t, phi, eta):\n",
    "    \"\"\"\n",
    "    Calculate the distance that the fluid travels into the solid.\n",
    "\n",
    "    Parameters:\n",
    "    gamma: the surface tension of the liquid\n",
    "    r: the radius of the capillary pore\n",
    "    t: the length of time for the capillary flow to occur\n",
    "    phi: the contact angle between the solid and the liquid\n",
    "    eta: the dynamic viscosity of the liquid\n",
    "\n",
    "    Returns:\n",
    "    L: the distance that the fluid travels into the solid\n",
    "    \"\"\"\n",
    "    L = np.sqrt((gamma * r * t * np.cos(phi)) / (2 * eta))\n",
    "    return L"
   ]
  },
  {
   "cell_type": "code",
   "execution_count": null,
   "metadata": {},
   "outputs": [],
   "source": [
    "microscopy_data[\"L_washburn\"] = calculate_L(microscopy_data[\"gamma\"], microscopy_data[\"r\"], microscopy_data[\"t\"], microscopy_data[\"phi\"], microscopy_data[\"eta\"])\n",
    "microscopy_data[\"L_washburn_residuals\"] = microscopy_data[\"L\"] - microscopy_data[\"L_washburn\"]"
   ]
  },
  {
   "cell_type": "markdown",
   "metadata": {},
   "source": []
  }
 ],
 "metadata": {
  "kernelspec": {
   "display_name": "Python 3",
   "language": "python",
   "name": "python3"
  },
  "language_info": {
   "codemirror_mode": {
    "name": "ipython",
    "version": 3
   },
   "file_extension": ".py",
   "mimetype": "text/x-python",
   "name": "python",
   "nbconvert_exporter": "python",
   "pygments_lexer": "ipython3",
   "version": "3.8.10"
  }
 },
 "nbformat": 4,
 "nbformat_minor": 2
}
